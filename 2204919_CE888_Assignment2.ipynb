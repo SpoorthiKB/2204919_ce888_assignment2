{
  "nbformat": 4,
  "nbformat_minor": 0,
  "metadata": {
    "colab": {
      "provenance": []
    },
    "kernelspec": {
      "name": "python3",
      "display_name": "Python 3"
    },
    "language_info": {
      "name": "python"
    }
  },
  "cells": [
    {
      "cell_type": "code",
      "execution_count": 13,
      "metadata": {
        "colab": {
          "base_uri": "https://localhost:8080/"
        },
        "id": "PW8NcpBSv44b",
        "outputId": "0dad79f9-88be-4017-c920-0aa37dae4769"
      },
      "outputs": [
        {
          "output_type": "stream",
          "name": "stdout",
          "text": [
            "Drive already mounted at /content/gdrive/; to attempt to forcibly remount, call drive.mount(\"/content/gdrive/\", force_remount=True).\n"
          ]
        }
      ],
      "source": [
        "from google.colab import drive\n",
        "drive.mount('/content/gdrive/')"
      ]
    },
    {
      "cell_type": "code",
      "source": [
        "import os\n",
        "import pandas as pd\n",
        "\n",
        "DATA_PATH = \"/content/gdrive/MyDrive/DS/\"\n",
        "SAVE_PATH = \"/content/gdrive/MyDrive/DS/processed_data2\"\n",
        "os.mkdir(SAVE_PATH)\n",
        "\n",
        "final_columns = {\n",
        "    'ACC': ['id', 'X', 'Y', 'Z', 'datetime'],\n",
        "    'EDA': ['id', 'EDA', 'datetime'],\n",
        "    'HR': ['id', 'HR', 'datetime'],\n",
        "    'TEMP': ['id', 'TEMP', 'datetime'],\n",
        "}\n",
        "\n",
        "names = {\n",
        "    'ACC.csv': ['X', 'Y', 'Z'],\n",
        "    'EDA.csv': ['EDA'],\n",
        "    'HR.csv': ['HR'],\n",
        "    'TEMP.csv': ['TEMP'],\n",
        "}\n",
        "\n",
        "desired_signals = ['ACC.csv', 'EDA.csv', 'HR.csv', 'TEMP.csv']\n",
        "desired_signals = ['ACC.csv', 'EDA.csv', 'HR.csv']\n",
        "\n",
        "acc = pd.DataFrame(columns=final_columns['ACC'])\n",
        "eda = pd.DataFrame(columns=final_columns['EDA'])\n",
        "hr = pd.DataFrame(columns=final_columns['HR'])\n",
        "temp = pd.DataFrame(columns=final_columns['TEMP'])\n",
        "\n",
        "def process_df(df, file):\n",
        "    start_timestamp = df.iloc[0,0]\n",
        "    sample_rate = df.iloc[1,0]\n",
        "    new_df = pd.DataFrame(df.iloc[2:].values, columns=df.columns)\n",
        "    new_df['id'] =  file[-2:]\n",
        "    new_df['datetime'] = [(start_timestamp + i/sample_rate) for i in range(len(new_df))]\n",
        "    return new_df\n",
        "\n",
        "for file in os.listdir(DATA_PATH):\n",
        "    print(f'Processing {file}')\n",
        "    for sub_file in os.listdir(os.path.join(DATA_PATH, file)):\n",
        "        if not sub_file.endswith(\".zip\"):\n",
        "            for signal in os.listdir(os.path.join(DATA_PATH, file, sub_file)):\n",
        "                if signal in desired_signals:\n",
        "                    df = pd.read_csv(os.path.join(DATA_PATH, file, sub_file, signal), names=names[signal], header=None)\n",
        "                    if not df.empty:\n",
        "                        if signal == 'ACC.csv':\n",
        "                            acc = pd.concat([acc, process_df(df, file)])             \n",
        "                        if signal == 'EDA.csv':\n",
        "                            eda = pd.concat([eda, process_df(df, file)])\n",
        "                        if signal == 'HR.csv':\n",
        "                            hr = pd.concat([hr, process_df(df, file)])\n",
        "                        if signal == 'TEMP.csv':\n",
        "                            temp = pd.concat([temp, process_df(df, file)])\n",
        "\n",
        "print('Saving Data ...')\n",
        "acc.to_csv(os.path.join(SAVE_PATH, 'combined_acc.csv'), index=False)\n",
        "eda.to_csv(os.path.join(SAVE_PATH, 'combined_eda.csv'), index=False)\n",
        "hr.to_csv(os.path.join(SAVE_PATH, 'combined_hr.csv'), index=False)\n",
        "temp.to_csv(os.path.join(SAVE_PATH, 'combined_temp.csv'), index=False)"
      ],
      "metadata": {
        "colab": {
          "base_uri": "https://localhost:8080/"
        },
        "id": "y1sQiP0wwGTZ",
        "outputId": "c9452713-c114-4f65-d538-2d842c47a40b"
      },
      "execution_count": 2,
      "outputs": [
        {
          "output_type": "stream",
          "name": "stdout",
          "text": [
            "Processing 5C\n",
            "Processing 6B\n",
            "Processing DF\n",
            "Processing 6D\n",
            "Processing processed_data2\n",
            "Saving Data ...\n"
          ]
        }
      ]
    },
    {
      "cell_type": "code",
      "source": [
        "import pandas as pd\n",
        "import os\n",
        "import multiprocessing\n",
        "\n",
        "COMBINED_DATA_PATH = \"/content/gdrive/MyDrive/DS/processed_data2\"\n",
        "SAVE_PATH = \"/content/gdrive/MyDrive/DS/majid\"\n",
        "\n",
        "if COMBINED_DATA_PATH != SAVE_PATH:\n",
        "    os.mkdir(SAVE_PATH)\n",
        "\n",
        "print(\"Reading data ...\")\n",
        "\n",
        "acc, eda, hr, temp = None, None, None, None\n",
        "\n",
        "signals = ['acc', 'eda', 'hr', 'temp']\n",
        "\n",
        "def read_parallel(signal):\n",
        "    df = pd.read_csv(os.path.join(COMBINED_DATA_PATH, f\"combined_{signal}.csv\"), dtype={'id': str})\n",
        "    return [signal, df]\n",
        "\n",
        "pool = multiprocessing.Pool(len(signals))\n",
        "results = pool.map(read_parallel, signals)\n",
        "pool.close()\n",
        "pool.join()\n",
        "\n",
        "for i in results:\n",
        "    globals()[i[0]] = i[1]\n",
        "\n",
        "# Merge data\n",
        "print('Merging Data ...')\n",
        "ids = eda['id'].unique()\n",
        "columns=['X', 'Y', 'Z', 'EDA', 'HR', 'TEMP', 'id', 'datetime']\n",
        "\n",
        "def merge_parallel(id):\n",
        "    print(f\"Processing {id}\")\n",
        "    df = pd.DataFrame(columns=columns)\n",
        "    \n",
        "    acc_id = acc[acc['id'] == id]\n",
        "    eda_id = eda[eda['id'] == id].drop(['id'], axis=1)\n",
        "    hr_id = hr[hr['id'] == id].drop(['id'], axis=1)\n",
        "    temp_id = temp[temp['id'] == id].drop(['id'], axis=1)\n",
        "\n",
        "    df = acc_id.merge(eda_id, on='datetime', how='outer')\n",
        "    df = df.merge(temp_id, on='datetime', how='outer')\n",
        "    df = df.merge(hr_id, on='datetime', how='outer')\n",
        "\n",
        "    df.fillna(method='ffill', inplace=True)\n",
        "    df.fillna(method='bfill', inplace=True)\n",
        "\n",
        "    return df\n",
        "\n",
        "pool = multiprocessing.Pool(len(ids))\n",
        "results = pool.map(merge_parallel, ids)\n",
        "pool.close()\n",
        "pool.join()\n",
        "\n",
        "new_df = pd.concat(results, ignore_index=True)\n",
        "\n",
        "print(\"Saving data ...\")\n",
        "new_df.to_csv(os.path.join(SAVE_PATH, \"merged_data.csv\"), index=False)"
      ],
      "metadata": {
        "colab": {
          "base_uri": "https://localhost:8080/"
        },
        "id": "C0PCV2-fx1pT",
        "outputId": "090f4bfc-dc82-4e58-8d8b-4f298f0e7560"
      },
      "execution_count": 3,
      "outputs": [
        {
          "output_type": "stream",
          "name": "stdout",
          "text": [
            "Reading data ...\n",
            "Merging Data ...\n",
            "Processing 6BProcessing DF\n",
            "Processing 5C\n",
            "Processing 6D\n",
            "\n",
            "Saving data ...\n"
          ]
        }
      ]
    },
    {
      "cell_type": "code",
      "source": [
        "import pandas as pd\n",
        "from datetime import timedelta, datetime\n",
        "import numpy as np\n",
        "import os\n",
        "import multiprocessing\n",
        "\n",
        "# Read Files\n",
        "print(\"Reading 1 ...\")\n",
        "PATH = '/content/gdrive/MyDrive/DS/majid'\n",
        "\n",
        "df = pd.read_csv(os.path.join(PATH, 'merged_data.csv'), dtype={'id': str})\n",
        "df['datetime'] = pd.to_datetime(df['datetime'].apply(lambda x: x * (10 ** 9)))\n",
        "\n",
        "print(\"Reading 2 ...\")\n",
        "survey_path = '/content/gdrive/MyDrive/DS/SurveyResults.xlsx'\n",
        "\n",
        "survey_df = pd.read_excel(survey_path, usecols=['ID', 'Start time', 'End time', 'date', 'Stress level'], dtype={'ID': str})\n",
        "survey_df['Stress level'].replace('na', np.nan, inplace=True)\n",
        "survey_df.dropna(inplace=True)\n",
        "\n",
        "survey_df['Start datetime'] =  pd.to_datetime(survey_df['date'].map(str) + ' ' + survey_df['Start time'].map(str))\n",
        "survey_df['End datetime'] =  pd.to_datetime(survey_df['date'].map(str) + ' ' + survey_df['End time'].map(str))\n",
        "survey_df.drop(['Start time', 'End time', 'date'], axis=1, inplace=True)\n",
        "\n",
        "# Convert SurveyResults.xlsx to GMT-00:00\n",
        "print(\"Converting ...\")\n",
        "daylight = pd.to_datetime(datetime(2020, 11, 1, 0, 0))\n",
        "\n",
        "survey_df1 = survey_df[survey_df['End datetime'] <= daylight].copy()\n",
        "survey_df1['Start datetime'] = survey_df1['Start datetime'].apply(lambda x: x + timedelta(hours=5))\n",
        "survey_df1['End datetime'] = survey_df1['End datetime'].apply(lambda x: x + timedelta(hours=5))\n",
        "\n",
        "survey_df2 = survey_df.loc[survey_df['End datetime'] > daylight].copy()\n",
        "survey_df2['Start datetime'] = survey_df2['Start datetime'].apply(lambda x: x + timedelta(hours=6))\n",
        "survey_df2['End datetime'] = survey_df2['End datetime'].apply(lambda x: x + timedelta(hours=6))\n",
        "\n",
        "survey_df = pd.concat([survey_df1, survey_df2], ignore_index=True)\n",
        "# survey_df = survey_df.loc[survey_df['Stress level'] != 1.0]\n",
        "\n",
        "survey_df.reset_index(drop=True, inplace=True)\n",
        "\n",
        "# Label Data\n",
        "print('Labelling ...')\n",
        "ids = df['id'].unique()\n",
        "\n",
        "def parallel(id):\n",
        "    new_df = pd.DataFrame(columns=['X', 'Y', 'Z', 'EDA', 'HR', 'TEMP', 'id', 'datetime', 'label'])\n",
        "\n",
        "    sdf = df[df['id'] == id].copy()\n",
        "    survey_sdf = survey_df[survey_df['ID'] == id].copy()\n",
        "\n",
        "    for _, survey_row in survey_sdf.iterrows():\n",
        "        ssdf = sdf[(sdf['datetime'] >= survey_row['Start datetime']) & (sdf['datetime'] <= survey_row['End datetime'])].copy()\n",
        "\n",
        "        if not ssdf.empty:\n",
        "            ssdf['label'] = np.repeat(survey_row['Stress level'], len(ssdf.index))\n",
        "            new_df = pd.concat([new_df, ssdf], ignore_index=True)\n",
        "        else:\n",
        "            print(f\"{survey_row['ID']} is missing label {survey_row['Stress level']} at {survey_row['Start datetime']} to {survey_row['End datetime']}\")\n",
        "        \n",
        "    return new_df\n",
        "\n",
        "pool = multiprocessing.Pool(len(ids))\n",
        "results = pool.map(parallel, ids)\n",
        "pool.close()\n",
        "pool.join()\n",
        "\n",
        "new_df = pd.concat(results, ignore_index=True)\n",
        "\n",
        "print('Saving ...')\n",
        "new_df.to_csv(os.path.join(PATH, 'merged_data_labeled.csv'), index=False)\n",
        "print('Done')"
      ],
      "metadata": {
        "colab": {
          "base_uri": "https://localhost:8080/"
        },
        "id": "mTnBDCUa5a20",
        "outputId": "02d7f402-61ef-44ec-ddde-80b14fd2da06"
      },
      "execution_count": 1,
      "outputs": [
        {
          "output_type": "stream",
          "name": "stdout",
          "text": [
            "Reading 1 ...\n",
            "Reading 2 ...\n",
            "Converting ...\n",
            "Labelling ...\n",
            "6D is missing label 1.0 at 2020-06-03 07:00:00 to 2020-06-03 09:00:00\n",
            "5C is missing label 1.0 at 2020-04-15 13:00:00 to 2020-04-15 14:00:00\n",
            "5C is missing label 0.0 at 2020-06-12 07:00:00 to 2020-06-12 08:00:00\n",
            "Saving ...\n",
            "Done\n"
          ]
        }
      ]
    },
    {
      "cell_type": "code",
      "source": [
        "import pandas as pd\n",
        "import numpy as np\n",
        "import seaborn as sns\n",
        "from sklearn.preprocessing import StandardScaler\n",
        "from sklearn.model_selection import train_test_split\n",
        "from sklearn.preprocessing import StandardScaler\n",
        "from sklearn.linear_model import LogisticRegression\n",
        "from sklearn.metrics import accuracy_score, f1_score, precision_score, recall_score"
      ],
      "metadata": {
        "id": "m-hBgs_rFwBn"
      },
      "execution_count": 16,
      "outputs": []
    },
    {
      "cell_type": "code",
      "source": [
        "df = pd.read_csv('/content/gdrive/MyDrive/DS/majid/merged_data_labeled.csv')"
      ],
      "metadata": {
        "id": "Y6GvKMpTGQ21"
      },
      "execution_count": 17,
      "outputs": []
    },
    {
      "cell_type": "markdown",
      "source": [
        "Analysing EDA, HR and TEMP w.r.t to ids"
      ],
      "metadata": {
        "id": "0VKkSEwgHwKs"
      }
    },
    {
      "cell_type": "code",
      "source": [
        "import matplotlib.pyplot as plt\n",
        "\n",
        "# Create a mapping dictionary for the ids\n",
        "unique_ids = df['id'].unique()\n",
        "id_map = {id_val: i+1 for i, id_val in enumerate(unique_ids)}\n",
        "\n",
        "# Create a new column with the mapped values\n",
        "df['id_num'] = df['id'].map(id_map)\n",
        "\n",
        "# Create a scatter plot with the x-axis scaled to the unique id_num values\n",
        "plt.scatter(df['id_num'], df['EDA'])\n",
        "\n",
        "# Set the x-axis tick locations and labels\n",
        "plt.xticks(range(1, len(unique_ids)+1), unique_ids)\n",
        "\n",
        "# Add axis labels and a title\n",
        "plt.xlabel('ID')\n",
        "plt.ylabel('EDA')\n",
        "plt.title('Scatter Plot')\n",
        "\n",
        "# Show the plot\n",
        "plt.show()"
      ],
      "metadata": {
        "colab": {
          "base_uri": "https://localhost:8080/",
          "height": 472
        },
        "id": "SuPoOoZGHo69",
        "outputId": "a6d3b213-6987-4ad0-c6b8-b021eb41baa3"
      },
      "execution_count": 7,
      "outputs": [
        {
          "output_type": "display_data",
          "data": {
            "text/plain": [
              "<Figure size 640x480 with 1 Axes>"
            ],
            "image/png": "[encoded data removed]"
          },
          "metadata": {}
        }
      ]
    },
    {
      "cell_type": "code",
      "source": [
        "# Create a scatter plot with the x-axis scaled to the unique id_num values\n",
        "plt.scatter(df['id_num'], df['HR'])\n",
        "\n",
        "# Set the x-axis tick locations and labels\n",
        "plt.xticks(range(1, len(unique_ids)+1), unique_ids)\n",
        "\n",
        "# Add axis labels and a title\n",
        "plt.xlabel('ID')\n",
        "plt.ylabel('HR')\n",
        "plt.title('Scatter Plot')\n",
        "\n",
        "# Show the plot\n",
        "plt.show()"
      ],
      "metadata": {
        "colab": {
          "base_uri": "https://localhost:8080/",
          "height": 472
        },
        "id": "zIOYIIVVH_YL",
        "outputId": "a1f40d4c-ed81-4a94-e685-6a56ae87663a"
      },
      "execution_count": 8,
      "outputs": [
        {
          "output_type": "display_data",
          "data": {
            "text/plain": [
              "<Figure size 640x480 with 1 Axes>"
            ],
            "image/png": "[encoded data removed]"
          },
          "metadata": {}
        }
      ]
    },
    {
      "cell_type": "markdown",
      "source": [
        "Small amount of data but could not draw any conclusions from it, so decided to merge all of the data together"
      ],
      "metadata": {
        "id": "qQWkgtIAPerp"
      }
    },
    {
      "cell_type": "code",
      "source": [
        "df = pd.read_csv('/content/gdrive/MyDrive/DS/Data/merged_data_labeled.csv')\n",
        "df.head()"
      ],
      "metadata": {
        "colab": {
          "base_uri": "https://localhost:8080/",
          "height": 241
        },
        "id": "zNxPzpc8H_qs",
        "outputId": "8e778f63-0cdf-441a-d48e-ffd550b56311"
      },
      "execution_count": 29,
      "outputs": [
        {
          "output_type": "stream",
          "name": "stderr",
          "text": [
            "<ipython-input-29-11c45c191402>:1: DtypeWarning: Columns (6) have mixed types. Specify dtype option on import or set low_memory=False.\n",
            "  df = pd.read_csv('/content/gdrive/MyDrive/DS/Data/merged_data_labeled.csv')\n"
          ]
        },
        {
          "output_type": "execute_result",
          "data": {
            "text/plain": [
              "      X     Y     Z       EDA     HR   TEMP  id  \\\n",
              "0 -13.0 -61.0   5.0  6.769995  99.43  31.17  15   \n",
              "1 -20.0 -69.0  -3.0  6.769995  99.43  31.17  15   \n",
              "2 -31.0 -78.0 -15.0  6.769995  99.43  31.17  15   \n",
              "3 -47.0 -65.0 -38.0  6.769995  99.43  31.17  15   \n",
              "4 -67.0 -57.0 -53.0  6.769995  99.43  31.17  15   \n",
              "\n",
              "                        datetime  label  \n",
              "0  2020-07-08 14:03:00.000000000    2.0  \n",
              "1  2020-07-08 14:03:00.031249920    2.0  \n",
              "2  2020-07-08 14:03:00.062500096    2.0  \n",
              "3  2020-07-08 14:03:00.093750016    2.0  \n",
              "4  2020-07-08 14:03:00.124999936    2.0  "
            ],
            "text/html": [
              "\n",
              "  <div id=\"df-e6940e0d-4098-41df-9b84-50558604d5d6\">\n",
              "    <div class=\"colab-df-container\">\n",
              "      <div>\n",
              "<style scoped>\n",
              "    .dataframe tbody tr th:only-of-type {\n",
              "        vertical-align: middle;\n",
              "    }\n",
              "\n",
              "    .dataframe tbody tr th {\n",
              "        vertical-align: top;\n",
              "    }\n",
              "\n",
              "    .dataframe thead th {\n",
              "        text-align: right;\n",
              "    }\n",
              "</style>\n",
              "<table border=\"1\" class=\"dataframe\">\n",
              "  <thead>\n",
              "    <tr style=\"text-align: right;\">\n",
              "      <th></th>\n",
              "      <th>X</th>\n",
              "      <th>Y</th>\n",
              "      <th>Z</th>\n",
              "      <th>EDA</th>\n",
              "      <th>HR</th>\n",
              "      <th>TEMP</th>\n",
              "      <th>id</th>\n",
              "      <th>datetime</th>\n",
              "      <th>label</th>\n",
              "    </tr>\n",
              "  </thead>\n",
              "  <tbody>\n",
              "    <tr>\n",
              "      <th>0</th>\n",
              "      <td>-13.0</td>\n",
              "      <td>-61.0</td>\n",
              "      <td>5.0</td>\n",
              "      <td>6.769995</td>\n",
              "      <td>99.43</td>\n",
              "      <td>31.17</td>\n",
              "      <td>15</td>\n",
              "      <td>2020-07-08 14:03:00.000000000</td>\n",
              "      <td>2.0</td>\n",
              "    </tr>\n",
              "    <tr>\n",
              "      <th>1</th>\n",
              "      <td>-20.0</td>\n",
              "      <td>-69.0</td>\n",
              "      <td>-3.0</td>\n",
              "      <td>6.769995</td>\n",
              "      <td>99.43</td>\n",
              "      <td>31.17</td>\n",
              "      <td>15</td>\n",
              "      <td>2020-07-08 14:03:00.031249920</td>\n",
              "      <td>2.0</td>\n",
              "    </tr>\n",
              "    <tr>\n",
              "      <th>2</th>\n",
              "      <td>-31.0</td>\n",
              "      <td>-78.0</td>\n",
              "      <td>-15.0</td>\n",
              "      <td>6.769995</td>\n",
              "      <td>99.43</td>\n",
              "      <td>31.17</td>\n",
              "      <td>15</td>\n",
              "      <td>2020-07-08 14:03:00.062500096</td>\n",
              "      <td>2.0</td>\n",
              "    </tr>\n",
              "    <tr>\n",
              "      <th>3</th>\n",
              "      <td>-47.0</td>\n",
              "      <td>-65.0</td>\n",
              "      <td>-38.0</td>\n",
              "      <td>6.769995</td>\n",
              "      <td>99.43</td>\n",
              "      <td>31.17</td>\n",
              "      <td>15</td>\n",
              "      <td>2020-07-08 14:03:00.093750016</td>\n",
              "      <td>2.0</td>\n",
              "    </tr>\n",
              "    <tr>\n",
              "      <th>4</th>\n",
              "      <td>-67.0</td>\n",
              "      <td>-57.0</td>\n",
              "      <td>-53.0</td>\n",
              "      <td>6.769995</td>\n",
              "      <td>99.43</td>\n",
              "      <td>31.17</td>\n",
              "      <td>15</td>\n",
              "      <td>2020-07-08 14:03:00.124999936</td>\n",
              "      <td>2.0</td>\n",
              "    </tr>\n",
              "  </tbody>\n",
              "</table>\n",
              "</div>\n",
              "      <button class=\"colab-df-convert\" onclick=\"convertToInteractive('df-e6940e0d-4098-41df-9b84-50558604d5d6')\"\n",
              "              title=\"Convert this dataframe to an interactive table.\"\n",
              "              style=\"display:none;\">\n",
              "        \n",
              "  <svg xmlns=\"http://www.w3.org/2000/svg\" height=\"24px\"viewBox=\"0 0 24 24\"\n",
              "       width=\"24px\">\n",
              "    <path d=\"M0 0h24v24H0V0z\" fill=\"none\"/>\n",
              "    <path d=\"M18.56 5.44l.94 2.06.94-2.06 2.06-.94-2.06-.94-.94-2.06-.94 2.06-2.06.94zm-11 1L8.5 8.5l.94-2.06 2.06-.94-2.06-.94L8.5 2.5l-.94 2.06-2.06.94zm10 10l.94 2.06.94-2.06 2.06-.94-2.06-.94-.94-2.06-.94 2.06-2.06.94z\"/><path d=\"M17.41 7.96l-1.37-1.37c-.4-.4-.92-.59-1.43-.59-.52 0-1.04.2-1.43.59L10.3 9.45l-7.72 7.72c-.78.78-.78 2.05 0 2.83L4 21.41c.39.39.9.59 1.41.59.51 0 1.02-.2 1.41-.59l7.78-7.78 2.81-2.81c.8-.78.8-2.07 0-2.86zM5.41 20L4 18.59l7.72-7.72 1.47 1.35L5.41 20z\"/>\n",
              "  </svg>\n",
              "      </button>\n",
              "      \n",
              "  <style>\n",
              "    .colab-df-container {\n",
              "      display:flex;\n",
              "      flex-wrap:wrap;\n",
              "      gap: 12px;\n",
              "    }\n",
              "\n",
              "    .colab-df-convert {\n",
              "      background-color: #E8F0FE;\n",
              "      border: none;\n",
              "      border-radius: 50%;\n",
              "      cursor: pointer;\n",
              "      display: none;\n",
              "      fill: #1967D2;\n",
              "      height: 32px;\n",
              "      padding: 0 0 0 0;\n",
              "      width: 32px;\n",
              "    }\n",
              "\n",
              "    .colab-df-convert:hover {\n",
              "      background-color: #E2EBFA;\n",
              "      box-shadow: 0px 1px 2px rgba(60, 64, 67, 0.3), 0px 1px 3px 1px rgba(60, 64, 67, 0.15);\n",
              "      fill: #174EA6;\n",
              "    }\n",
              "\n",
              "    [theme=dark] .colab-df-convert {\n",
              "      background-color: #3B4455;\n",
              "      fill: #D2E3FC;\n",
              "    }\n",
              "\n",
              "    [theme=dark] .colab-df-convert:hover {\n",
              "      background-color: #434B5C;\n",
              "      box-shadow: 0px 1px 3px 1px rgba(0, 0, 0, 0.15);\n",
              "      filter: drop-shadow(0px 1px 2px rgba(0, 0, 0, 0.3));\n",
              "      fill: #FFFFFF;\n",
              "    }\n",
              "  </style>\n",
              "\n",
              "      <script>\n",
              "        const buttonEl =\n",
              "          document.querySelector('#df-e6940e0d-4098-41df-9b84-50558604d5d6 button.colab-df-convert');\n",
              "        buttonEl.style.display =\n",
              "          google.colab.kernel.accessAllowed ? 'block' : 'none';\n",
              "\n",
              "        async function convertToInteractive(key) {\n",
              "          const element = document.querySelector('#df-e6940e0d-4098-41df-9b84-50558604d5d6');\n",
              "          const dataTable =\n",
              "            await google.colab.kernel.invokeFunction('convertToInteractive',\n",
              "                                                     [key], {});\n",
              "          if (!dataTable) return;\n",
              "\n",
              "          const docLinkHtml = 'Like what you see? Visit the ' +\n",
              "            '<a target=\"_blank\" href=https://colab.research.google.com/notebooks/data_table.ipynb>data table notebook</a>'\n",
              "            + ' to learn more about interactive tables.';\n",
              "          element.innerHTML = '';\n",
              "          dataTable['output_type'] = 'display_data';\n",
              "          await google.colab.output.renderOutput(dataTable, element);\n",
              "          const docLink = document.createElement('div');\n",
              "          docLink.innerHTML = docLinkHtml;\n",
              "          element.appendChild(docLink);\n",
              "        }\n",
              "      </script>\n",
              "    </div>\n",
              "  </div>\n",
              "  "
            ]
          },
          "metadata": {},
          "execution_count": 29
        }
      ]
    },
    {
      "cell_type": "code",
      "source": [
        "import matplotlib.pyplot as plt\n",
        "\n",
        "# Create a mapping dictionary for the ids\n",
        "unique_ids = df['id'].unique()\n",
        "id_map = {id_val: i+1 for i, id_val in enumerate(unique_ids)}\n",
        "\n",
        "# Create a new column with the mapped values\n",
        "df['id_num'] = df['id'].map(id_map)\n",
        "\n",
        "# Create a scatter plot with the x-axis scaled to the unique id_num values\n",
        "plt.scatter(df['id_num'], df['EDA'])\n",
        "\n",
        "# Set the x-axis tick locations and labels\n",
        "plt.xticks(range(1, len(unique_ids)+1), unique_ids)\n",
        "\n",
        "# Add axis labels and a title\n",
        "plt.xlabel('ID')\n",
        "plt.ylabel('EDA')\n",
        "plt.title('Scatter Plot')\n",
        "\n",
        "# Show the plot\n",
        "plt.show()"
      ],
      "metadata": {
        "colab": {
          "base_uri": "https://localhost:8080/",
          "height": 472
        },
        "id": "h5JBzxrbH_xw",
        "outputId": "4de37283-cb38-4ead-a47b-948b1755904f"
      },
      "execution_count": 20,
      "outputs": [
        {
          "output_type": "display_data",
          "data": {
            "text/plain": [
              "<Figure size 640x480 with 1 Axes>"
            ],
            "image/png": "[encoded data removed]"
          },
          "metadata": {}
        }
      ]
    },
    {
      "cell_type": "code",
      "source": [
        "# Create a scatter plot with the x-axis scaled to the unique id_num values\n",
        "plt.scatter(df['id_num'], df['HR'])\n",
        "\n",
        "# Set the x-axis tick locations and labels\n",
        "plt.xticks(range(1, len(unique_ids)+1), unique_ids)\n",
        "\n",
        "# Add axis labels and a title\n",
        "plt.xlabel('ID')\n",
        "plt.ylabel('HR')\n",
        "plt.title('Scatter Plot')\n",
        "\n",
        "# Show the plot\n",
        "plt.show()"
      ],
      "metadata": {
        "colab": {
          "base_uri": "https://localhost:8080/",
          "height": 472
        },
        "id": "mNZofKtDH_2g",
        "outputId": "21dbb685-c6fa-4dad-e9e3-b7e7b8a36774"
      },
      "execution_count": 21,
      "outputs": [
        {
          "output_type": "display_data",
          "data": {
            "text/plain": [
              "<Figure size 640x480 with 1 Axes>"
            ],
            "image/png": "[encoded data removed]"
          },
          "metadata": {}
        }
      ]
    },
    {
      "cell_type": "code",
      "source": [
        "# Create a scatter plot with the x-axis scaled to the unique id_num values\n",
        "plt.scatter(df['id_num'], df['TEMP'])\n",
        "\n",
        "# Set the x-axis tick locations and labels\n",
        "plt.xticks(range(1, len(unique_ids)+1), unique_ids)\n",
        "\n",
        "# Add axis labels and a title\n",
        "plt.xlabel('ID')\n",
        "plt.ylabel('TEMP')\n",
        "plt.title('Scatter Plot')\n",
        "\n",
        "# Show the plot\n",
        "plt.show()"
      ],
      "metadata": {
        "colab": {
          "base_uri": "https://localhost:8080/",
          "height": 472
        },
        "id": "MKAgrNDBH_5C",
        "outputId": "17cb6f84-c371-45ce-ce19-d158c607185a"
      },
      "execution_count": 22,
      "outputs": [
        {
          "output_type": "display_data",
          "data": {
            "text/plain": [
              "<Figure size 640x480 with 1 Axes>"
            ],
            "image/png": "[encoded data removed]"
          },
          "metadata": {}
        }
      ]
    },
    {
      "cell_type": "code",
      "source": [
        "from sklearn.preprocessing import StandardScaler\n",
        "\n",
        "# Check for missing values\n",
        "print(df.isnull().sum())\n",
        "\n",
        "# Check for duplicates\n",
        "print(df.duplicated().sum())\n",
        "df=df.drop_duplicates()\n"
      ],
      "metadata": {
        "colab": {
          "base_uri": "https://localhost:8080/"
        },
        "id": "dMolAcC6Pp6v",
        "outputId": "9966faf7-6296-4234-8b42-97e361274a3d"
      },
      "execution_count": 30,
      "outputs": [
        {
          "output_type": "stream",
          "name": "stdout",
          "text": [
            "X           0\n",
            "Y           0\n",
            "Z           0\n",
            "EDA         0\n",
            "HR          0\n",
            "TEMP        0\n",
            "id          0\n",
            "datetime    0\n",
            "label       0\n",
            "dtype: int64\n",
            "105606\n"
          ]
        }
      ]
    },
    {
      "cell_type": "code",
      "source": [
        "# Get the correlation matrix\n",
        "correlation_matrix = df.corr()\n",
        "print(correlation_matrix)\n",
        "\n",
        "# Visualize the correlation matrix using a heatmap\n",
        "sns.heatmap(correlation_matrix, cmap='coolwarm', annot=True, fmt='.2f')"
      ],
      "metadata": {
        "colab": {
          "base_uri": "https://localhost:8080/",
          "height": 837
        },
        "id": "vmt511BIH_7s",
        "outputId": "2793a12a-161b-4bd0-8b52-79de17bc0550"
      },
      "execution_count": 23,
      "outputs": [
        {
          "output_type": "stream",
          "name": "stderr",
          "text": [
            "<ipython-input-23-5a43a2688479>:2: FutureWarning: The default value of numeric_only in DataFrame.corr is deprecated. In a future version, it will default to False. Select only valid columns or specify the value of numeric_only to silence this warning.\n",
            "  correlation_matrix = df.corr()\n"
          ]
        },
        {
          "output_type": "stream",
          "name": "stdout",
          "text": [
            "               X         Y         Z       EDA        HR      TEMP     label  \\\n",
            "X       1.000000  0.067204  0.197295  0.093888  0.126070  0.022847 -0.008351   \n",
            "Y       0.067204  1.000000  0.019084 -0.096138 -0.068020 -0.084576 -0.022143   \n",
            "Z       0.197295  0.019084  1.000000  0.005993 -0.104191 -0.029366 -0.058655   \n",
            "EDA     0.093888 -0.096138  0.005993  1.000000  0.142542  0.352888  0.053214   \n",
            "HR      0.126070 -0.068020 -0.104191  0.142542  1.000000  0.158172 -0.032983   \n",
            "TEMP    0.022847 -0.084576 -0.029366  0.352888  0.158172  1.000000  0.135259   \n",
            "label  -0.008351 -0.022143 -0.058655  0.053214 -0.032983  0.135259  1.000000   \n",
            "id_num  0.291566  0.089410  0.040344  0.085625 -0.032966  0.145106  0.239522   \n",
            "\n",
            "          id_num  \n",
            "X       0.291566  \n",
            "Y       0.089410  \n",
            "Z       0.040344  \n",
            "EDA     0.085625  \n",
            "HR     -0.032966  \n",
            "TEMP    0.145106  \n",
            "label   0.239522  \n",
            "id_num  1.000000  \n"
          ]
        },
        {
          "output_type": "execute_result",
          "data": {
            "text/plain": [
              "<Axes: >"
            ]
          },
          "metadata": {},
          "execution_count": 23
        },
        {
          "output_type": "display_data",
          "data": {
            "text/plain": [
              "<Figure size 640x480 with 2 Axes>"
            ],
            "image/png": "[encoded data removed]"
          },
          "metadata": {}
        }
      ]
    },
    {
      "cell_type": "markdown",
      "source": [
        "Model Building"
      ],
      "metadata": {
        "id": "MSOhvajgMFDa"
      }
    },
    {
      "cell_type": "code",
      "source": [
        "X = df[['EDA', 'HR', 'TEMP']]\n",
        "y = df['label']"
      ],
      "metadata": {
        "id": "i5yeP-GvH__E"
      },
      "execution_count": 24,
      "outputs": []
    },
    {
      "cell_type": "code",
      "source": [
        "# Scale numerical features\n",
        "scaler = StandardScaler()\n",
        "X = scaler.fit_transform(X)"
      ],
      "metadata": {
        "id": "l88rhI1aL_rM"
      },
      "execution_count": 25,
      "outputs": []
    },
    {
      "cell_type": "code",
      "source": [
        "# Split the data into training and testing sets\n",
        "X_train, X_test, y_train, y_test = train_test_split(X, y, test_size=0.2, random_state=42)\n",
        "\n",
        "# Define a machine learning model\n",
        "clf = LogisticRegression()\n",
        "\n",
        "# Train the model on the training set\n",
        "clf.fit(X_train, y_train)"
      ],
      "metadata": {
        "colab": {
          "base_uri": "https://localhost:8080/",
          "height": 75
        },
        "id": "AapMF5tOL_1m",
        "outputId": "52f75e7d-b4ff-40c8-8c71-551ca8c4496e"
      },
      "execution_count": 26,
      "outputs": [
        {
          "output_type": "execute_result",
          "data": {
            "text/plain": [
              "LogisticRegression()"
            ],
            "text/html": [
              "<style>#sk-container-id-1 {color: black;background-color: white;}#sk-container-id-1 pre{padding: 0;}#sk-container-id-1 div.sk-toggleable {background-color: white;}#sk-container-id-1 label.sk-toggleable__label {cursor: pointer;display: block;width: 100%;margin-bottom: 0;padding: 0.3em;box-sizing: border-box;text-align: center;}#sk-container-id-1 label.sk-toggleable__label-arrow:before {content: \"▸\";float: left;margin-right: 0.25em;color: #696969;}#sk-container-id-1 label.sk-toggleable__label-arrow:hover:before {color: black;}#sk-container-id-1 div.sk-estimator:hover label.sk-toggleable__label-arrow:before {color: black;}#sk-container-id-1 div.sk-toggleable__content {max-height: 0;max-width: 0;overflow: hidden;text-align: left;background-color: #f0f8ff;}#sk-container-id-1 div.sk-toggleable__content pre {margin: 0.2em;color: black;border-radius: 0.25em;background-color: #f0f8ff;}#sk-container-id-1 input.sk-toggleable__control:checked~div.sk-toggleable__content {max-height: 200px;max-width: 100%;overflow: auto;}#sk-container-id-1 input.sk-toggleable__control:checked~label.sk-toggleable__label-arrow:before {content: \"▾\";}#sk-container-id-1 div.sk-estimator input.sk-toggleable__control:checked~label.sk-toggleable__label {background-color: #d4ebff;}#sk-container-id-1 div.sk-label input.sk-toggleable__control:checked~label.sk-toggleable__label {background-color: #d4ebff;}#sk-container-id-1 input.sk-hidden--visually {border: 0;clip: rect(1px 1px 1px 1px);clip: rect(1px, 1px, 1px, 1px);height: 1px;margin: -1px;overflow: hidden;padding: 0;position: absolute;width: 1px;}#sk-container-id-1 div.sk-estimator {font-family: monospace;background-color: #f0f8ff;border: 1px dotted black;border-radius: 0.25em;box-sizing: border-box;margin-bottom: 0.5em;}#sk-container-id-1 div.sk-estimator:hover {background-color: #d4ebff;}#sk-container-id-1 div.sk-parallel-item::after {content: \"\";width: 100%;border-bottom: 1px solid gray;flex-grow: 1;}#sk-container-id-1 div.sk-label:hover label.sk-toggleable__label {background-color: #d4ebff;}#sk-container-id-1 div.sk-serial::before {content: \"\";position: absolute;border-left: 1px solid gray;box-sizing: border-box;top: 0;bottom: 0;left: 50%;z-index: 0;}#sk-container-id-1 div.sk-serial {display: flex;flex-direction: column;align-items: center;background-color: white;padding-right: 0.2em;padding-left: 0.2em;position: relative;}#sk-container-id-1 div.sk-item {position: relative;z-index: 1;}#sk-container-id-1 div.sk-parallel {display: flex;align-items: stretch;justify-content: center;background-color: white;position: relative;}#sk-container-id-1 div.sk-item::before, #sk-container-id-1 div.sk-parallel-item::before {content: \"\";position: absolute;border-left: 1px solid gray;box-sizing: border-box;top: 0;bottom: 0;left: 50%;z-index: -1;}#sk-container-id-1 div.sk-parallel-item {display: flex;flex-direction: column;z-index: 1;position: relative;background-color: white;}#sk-container-id-1 div.sk-parallel-item:first-child::after {align-self: flex-end;width: 50%;}#sk-container-id-1 div.sk-parallel-item:last-child::after {align-self: flex-start;width: 50%;}#sk-container-id-1 div.sk-parallel-item:only-child::after {width: 0;}#sk-container-id-1 div.sk-dashed-wrapped {border: 1px dashed gray;margin: 0 0.4em 0.5em 0.4em;box-sizing: border-box;padding-bottom: 0.4em;background-color: white;}#sk-container-id-1 div.sk-label label {font-family: monospace;font-weight: bold;display: inline-block;line-height: 1.2em;}#sk-container-id-1 div.sk-label-container {text-align: center;}#sk-container-id-1 div.sk-container {/* jupyter's `normalize.less` sets `[hidden] { display: none; }` but bootstrap.min.css set `[hidden] { display: none !important; }` so we also need the `!important` here to be able to override the default hidden behavior on the sphinx rendered scikit-learn.org. See: https://github.com/scikit-learn/scikit-learn/issues/21755 */display: inline-block !important;position: relative;}#sk-container-id-1 div.sk-text-repr-fallback {display: none;}</style><div id=\"sk-container-id-1\" class=\"sk-top-container\"><div class=\"sk-text-repr-fallback\"><pre>LogisticRegression()</pre><b>In a Jupyter environment, please rerun this cell to show the HTML representation or trust the notebook. <br />On GitHub, the HTML representation is unable to render, please try loading this page with nbviewer.org.</b></div><div class=\"sk-container\" hidden><div class=\"sk-item\"><div class=\"sk-estimator sk-toggleable\"><input class=\"sk-toggleable__control sk-hidden--visually\" id=\"sk-estimator-id-1\" type=\"checkbox\" checked><label for=\"sk-estimator-id-1\" class=\"sk-toggleable__label sk-toggleable__label-arrow\">LogisticRegression</label><div class=\"sk-toggleable__content\"><pre>LogisticRegression()</pre></div></div></div></div></div>"
            ]
          },
          "metadata": {},
          "execution_count": 26
        }
      ]
    },
    {
      "cell_type": "code",
      "source": [
        "# Evaluate the model on the testing set\n",
        "y_pred = clf.predict(X_test)\n",
        "\n",
        "f1score   = f1_score        (y_test, y_pred, average = 'macro')\n",
        "recall    = recall_score    (y_test, y_pred, average = 'macro')\n",
        "precision = precision_score (y_test, y_pred, average = 'macro')\n",
        "accuracy  = accuracy_score  (y_test, y_pred)\n",
        "\n",
        "print('acc =', accuracy)\n",
        "print('pre =', precision)\n",
        "print('recall =', recall) \n",
        "print('f1 =', f1score)"
      ],
      "metadata": {
        "colab": {
          "base_uri": "https://localhost:8080/"
        },
        "id": "mKN9fCSdMPPe",
        "outputId": "fde0ee24-84ec-4abe-b954-8edd946eced3"
      },
      "execution_count": 27,
      "outputs": [
        {
          "output_type": "stream",
          "name": "stdout",
          "text": [
            "acc = 0.7423307126432187\n",
            "pre = 0.24746034194235597\n",
            "recall = 0.3333029037079864\n",
            "f1 = 0.2840374322572623\n"
          ]
        },
        {
          "output_type": "stream",
          "name": "stderr",
          "text": [
            "/usr/local/lib/python3.9/dist-packages/sklearn/metrics/_classification.py:1344: UndefinedMetricWarning: Precision is ill-defined and being set to 0.0 in labels with no predicted samples. Use `zero_division` parameter to control this behavior.\n",
            "  _warn_prf(average, modifier, msg_start, len(result))\n"
          ]
        }
      ]
    },
    {
      "cell_type": "markdown",
      "source": [
        "Achived accuracy of 74.23%"
      ],
      "metadata": {
        "id": "-d0XynbwMbqq"
      }
    }
  ]
}